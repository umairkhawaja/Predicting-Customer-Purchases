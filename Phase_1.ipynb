{
 "cells": [
  {
   "cell_type": "markdown",
   "metadata": {},
   "source": [
    "## Project Phase 1 - Data Cleaning and Exploration\n",
    "\n",
    "Group Members:\n",
    "Asim Waheed: 20100237\n",
    "Omer Arshad: 20100194\n",
    "Khawaja Umair ul Hassan: 20100286"
   ]
  },
  {
   "cell_type": "code",
   "execution_count": 1,
   "metadata": {},
   "outputs": [],
   "source": [
    "import pandas as pd \n",
    "import numpy as np\n",
    "import matplotlib.pyplot as plt\n",
    "\n",
    "%matplotlib inline\n",
    "\n",
    "data_dir = 'data/'"
   ]
  },
  {
   "cell_type": "markdown",
   "metadata": {
    "heading_collapsed": true
   },
   "source": [
    "### Loading the Data"
   ]
  },
  {
   "cell_type": "code",
   "execution_count": 2,
   "metadata": {
    "hidden": true
   },
   "outputs": [
    {
     "name": "stdout",
     "output_type": "stream",
     "text": [
      "   aisle_id                       aisle\n",
      "0         1       prepared soups salads\n",
      "1         2           specialty cheeses\n",
      "2         3         energy granola bars\n",
      "3         4               instant foods\n",
      "4         5  marinades meat preparation\n",
      "(134, 2)\n"
     ]
    }
   ],
   "source": [
    "aisles = pd.read_csv(data_dir+'aisles.csv')\n",
    "\n",
    "print(aisles.head())\n",
    "print(aisles.shape)"
   ]
  },
  {
   "cell_type": "code",
   "execution_count": 3,
   "metadata": {
    "hidden": true
   },
   "outputs": [
    {
     "name": "stdout",
     "output_type": "stream",
     "text": [
      "   department_id department\n",
      "0              1     frozen\n",
      "1              2      other\n",
      "2              3     bakery\n",
      "3              4    produce\n",
      "4              5    alcohol\n",
      "(21, 2)\n"
     ]
    }
   ],
   "source": [
    "departments = pd.read_csv(data_dir+'departments.csv')\n",
    "\n",
    "print(departments.head())\n",
    "print(departments.shape)"
   ]
  },
  {
   "cell_type": "code",
   "execution_count": 4,
   "metadata": {
    "hidden": true
   },
   "outputs": [
    {
     "name": "stdout",
     "output_type": "stream",
     "text": [
      "   product_id                                       product_name  aisle_id  \\\n",
      "0           1                         Chocolate Sandwich Cookies        61   \n",
      "1           2                                   All-Seasons Salt       104   \n",
      "2           3               Robust Golden Unsweetened Oolong Tea        94   \n",
      "3           4  Smart Ones Classic Favorites Mini Rigatoni Wit...        38   \n",
      "4           5                          Green Chile Anytime Sauce         5   \n",
      "\n",
      "   department_id  \n",
      "0             19  \n",
      "1             13  \n",
      "2              7  \n",
      "3              1  \n",
      "4             13  \n",
      "(49688, 4)\n"
     ]
    }
   ],
   "source": [
    "products = pd.read_csv(data_dir+'products.csv')\n",
    "\n",
    "print(products.head())\n",
    "print(products.shape)"
   ]
  },
  {
   "cell_type": "code",
   "execution_count": 5,
   "metadata": {
    "hidden": true
   },
   "outputs": [
    {
     "name": "stdout",
     "output_type": "stream",
     "text": [
      "   order_id  user_id eval_set  order_number  order_dow  order_hour_of_day  \\\n",
      "0   2539329        1    prior             1          2                  8   \n",
      "1   2398795        1    prior             2          3                  7   \n",
      "2    473747        1    prior             3          3                 12   \n",
      "3   2254736        1    prior             4          4                  7   \n",
      "4    431534        1    prior             5          4                 15   \n",
      "\n",
      "   days_since_prior_order  \n",
      "0                     NaN  \n",
      "1                    15.0  \n",
      "2                    21.0  \n",
      "3                    29.0  \n",
      "4                    28.0  \n",
      "         order_id  user_id eval_set  order_number  order_dow  \\\n",
      "3421078   2266710   206209    prior            10          5   \n",
      "3421079   1854736   206209    prior            11          4   \n",
      "3421080    626363   206209    prior            12          1   \n",
      "3421081   2977660   206209    prior            13          1   \n",
      "3421082    272231   206209    train            14          6   \n",
      "\n",
      "         order_hour_of_day  days_since_prior_order  \n",
      "3421078                 18                    29.0  \n",
      "3421079                 10                    30.0  \n",
      "3421080                 12                    18.0  \n",
      "3421081                 12                     7.0  \n",
      "3421082                 14                    30.0  \n",
      "(3421083, 7)\n"
     ]
    }
   ],
   "source": [
    "orders = pd.read_csv(data_dir+'orders.csv')\n",
    "\n",
    "print(orders.head())\n",
    "print(orders.tail())\n",
    "print(orders.shape)"
   ]
  },
  {
   "cell_type": "code",
   "execution_count": 6,
   "metadata": {
    "hidden": true
   },
   "outputs": [
    {
     "name": "stdout",
     "output_type": "stream",
     "text": [
      "['prior' 'train' 'test']\n",
      "Total number of users who placed an order: 206209\n"
     ]
    }
   ],
   "source": [
    "# to find out what the eval set means\n",
    "print(orders['eval_set'].unique())\n",
    "# To find out total number of users who placed an order\n",
    "print(\"Total number of users who placed an order:\", len(orders['user_id'].unique()))"
   ]
  },
  {
   "cell_type": "code",
   "execution_count": 7,
   "metadata": {
    "hidden": true
   },
   "outputs": [
    {
     "name": "stdout",
     "output_type": "stream",
     "text": [
      "   order_id  product_id  add_to_cart_order  reordered\n",
      "0         2       33120                  1          1\n",
      "1         2       28985                  2          1\n",
      "2         2        9327                  3          0\n",
      "3         2       45918                  4          1\n",
      "4         2       30035                  5          0\n",
      "(32434489, 4)\n"
     ]
    }
   ],
   "source": [
    "order_products_prior = pd.read_csv(data_dir+'order_products__prior.csv')\n",
    "\n",
    "print(order_products_prior.head())\n",
    "print(order_products_prior.shape)"
   ]
  },
  {
   "cell_type": "markdown",
   "metadata": {
    "heading_collapsed": true
   },
   "source": [
    "### Data Integrity Check / Data Cleaning"
   ]
  },
  {
   "cell_type": "code",
   "execution_count": 8,
   "metadata": {
    "hidden": true
   },
   "outputs": [
    {
     "name": "stdout",
     "output_type": "stream",
     "text": [
      "Check orders dataframe for NaNs:\n",
      "order_id                       0\n",
      "user_id                        0\n",
      "eval_set                       0\n",
      "order_number                   0\n",
      "order_dow                      0\n",
      "order_hour_of_day              0\n",
      "days_since_prior_order    206209\n",
      "dtype: int64 \n",
      "\n"
     ]
    }
   ],
   "source": [
    "print(\"Check orders dataframe for NaNs:\")\n",
    "print(orders.isnull().sum(),\"\\n\")"
   ]
  },
  {
   "cell_type": "markdown",
   "metadata": {
    "hidden": true
   },
   "source": [
    "Only 'days_since_prior_order' contains null values. This makes sense since users might place an order for the first time"
   ]
  },
  {
   "cell_type": "code",
   "execution_count": 9,
   "metadata": {
    "hidden": true
   },
   "outputs": [
    {
     "name": "stdout",
     "output_type": "stream",
     "text": [
      "Check order_products_prior dataframe for NaNs:\n",
      "order_id             0\n",
      "product_id           0\n",
      "add_to_cart_order    0\n",
      "reordered            0\n",
      "dtype: int64 \n",
      "\n",
      "Check aisles dataframe for NaNs:\n",
      "aisle_id    0\n",
      "aisle       0\n",
      "dtype: int64 \n",
      "\n",
      "Check products dataframe for NaNs:\n",
      "product_id       0\n",
      "product_name     0\n",
      "aisle_id         0\n",
      "department_id    0\n",
      "dtype: int64 \n",
      "\n",
      "Check departments dataframe for NaNs:\n",
      "department_id    0\n",
      "department       0\n",
      "dtype: int64 \n",
      "\n"
     ]
    }
   ],
   "source": [
    "print(\"Check order_products_prior dataframe for NaNs:\")\n",
    "print(order_products_prior.isnull().sum(),\"\\n\")\n",
    "\n",
    "print(\"Check aisles dataframe for NaNs:\")\n",
    "print(aisles.isnull().sum(),\"\\n\")\n",
    "\n",
    "print(\"Check products dataframe for NaNs:\")\n",
    "print(products.isnull().sum(),\"\\n\")\n",
    "\n",
    "print(\"Check departments dataframe for NaNs:\")\n",
    "print(departments.isnull().sum(),\"\\n\")\n"
   ]
  },
  {
   "cell_type": "markdown",
   "metadata": {
    "hidden": true
   },
   "source": [
    "None of the other dataframes contain any NaN values. This means the data integrity is good and we do not need to perform any such data cleaning steps."
   ]
  },
  {
   "cell_type": "markdown",
   "metadata": {},
   "source": [
    "### Exploratory Data Analysis"
   ]
  },
  {
   "cell_type": "markdown",
   "metadata": {
    "heading_collapsed": true
   },
   "source": [
    "##### What do people buy? More often sold product?"
   ]
  },
  {
   "cell_type": "code",
   "execution_count": 32,
   "metadata": {
    "hidden": true
   },
   "outputs": [],
   "source": [
    "products_bought = pd.merge(order_products_prior, \n",
    "                      products[['product_id', 'product_name']], \n",
    "                      on='product_id')\n",
    "\n",
    "products_bought_count = products_bought.groupby('product_name') \\\n",
    "                                        .count()['order_id'] \\\n",
    "                                        .reset_index() \\\n",
    "                                        .sort_values('order_id', ascending=False) \\\n",
    "                                        .reset_index()[['product_name','order_id']]\n"
   ]
  },
  {
   "cell_type": "code",
   "execution_count": 33,
   "metadata": {
    "hidden": true
   },
   "outputs": [
    {
     "name": "stdout",
     "output_type": "stream",
     "text": [
      "                product_name  order_id\n",
      "0                     Banana    472565\n",
      "1     Bag of Organic Bananas    379450\n",
      "2       Organic Strawberries    264683\n",
      "3       Organic Baby Spinach    241921\n",
      "4       Organic Hass Avocado    213584\n",
      "5            Organic Avocado    176815\n",
      "6                Large Lemon    152657\n",
      "7               Strawberries    142951\n",
      "8                      Limes    140627\n",
      "9         Organic Whole Milk    137905\n",
      "10       Organic Raspberries    137057\n",
      "11      Organic Yellow Onion    113426\n",
      "12            Organic Garlic    109778\n",
      "13          Organic Zucchini    104823\n",
      "14       Organic Blueberries    100060\n",
      "15            Cucumber Kirby     97315\n",
      "16        Organic Fuji Apple     89632\n",
      "17             Organic Lemon     87746\n",
      "18  Apple Honeycrisp Organic     85020\n",
      "19    Organic Grape Tomatoes     84255\n"
     ]
    }
   ],
   "source": [
    "print(products_bought_count.head(20))"
   ]
  },
  {
   "cell_type": "markdown",
   "metadata": {
    "hidden": true
   },
   "source": [
    "As can be seen, most people buy Bananas, and even the second most bought item is organic bananas. "
   ]
  },
  {
   "cell_type": "markdown",
   "metadata": {},
   "source": [
    "##### At what hour of the day?"
   ]
  },
  {
   "cell_type": "code",
   "execution_count": 48,
   "metadata": {},
   "outputs": [
    {
     "name": "stdout",
     "output_type": "stream",
     "text": [
      "count    206209.000000\n",
      "mean         13.585248\n",
      "std           2.020743\n",
      "min           0.750000\n",
      "5%           10.333333\n",
      "10%          11.000000\n",
      "25%          12.250000\n",
      "50%          13.571429\n",
      "75%          14.900000\n",
      "90%          16.153846\n",
      "95%          16.928571\n",
      "max          23.000000\n",
      "Name: order_hour_of_day, dtype: float64\n"
     ]
    },
    {
     "data": {
      "image/png": "[encoded data removed]",
      "text/plain": [
       "<Figure size 900x600 with 1 Axes>"
      ]
     },
     "metadata": {},
     "output_type": "display_data"
    }
   ],
   "source": [
    "order_time = orders.groupby('user_id').mean()['order_hour_of_day']\n",
    "\n",
    "print(order_time.describe([0.05, 0.1, 0.25, 0.5, 0.75, 0.9, 0.95]))\n",
    "plt.figure(dpi=150)\n",
    "plt.xlabel('Hour of the day')\n",
    "plt.ylabel('Frequency')\n",
    "order_time.hist()\n",
    "plt.show()"
   ]
  },
  {
   "cell_type": "markdown",
   "metadata": {},
   "source": [
    "On average people tend to place their orders at 1pm (13:00). In fact, 90% of the people (95th percentile - 5th percentile) place their orders between 10am and 4pm. Only 10% people place it before or after than."
   ]
  },
  {
   "cell_type": "markdown",
   "metadata": {
    "heading_collapsed": true
   },
   "source": [
    "##### At which day of the week?"
   ]
  },
  {
   "cell_type": "code",
   "execution_count": 47,
   "metadata": {
    "hidden": true,
    "scrolled": false
   },
   "outputs": [
    {
     "name": "stdout",
     "output_type": "stream",
     "text": [
      "count    206209.000000\n",
      "mean          2.754424\n",
      "std           0.892705\n",
      "min           0.000000\n",
      "5%            1.250000\n",
      "10%           1.600000\n",
      "25%           2.214286\n",
      "50%           2.766667\n",
      "75%           3.285714\n",
      "90%           3.842105\n",
      "95%           4.250000\n",
      "max           6.000000\n",
      "Name: order_dow, dtype: float64\n"
     ]
    },
    {
     "data": {
      "image/png": "[encoded data removed]",
      "text/plain": [
       "<Figure size 900x600 with 1 Axes>"
      ]
     },
     "metadata": {},
     "output_type": "display_data"
    }
   ],
   "source": [
    "order_day = orders.groupby('user_id').mean()['order_dow']\n",
    "\n",
    "percentiles = [0.05, 0.1, 0.25, 0.5, 0.75, 0.9, 0.95]\n",
    "\n",
    "print(order_day.describe(percentiles))\n",
    "plt.figure(dpi=150)\n",
    "plt.xlabel('Day of week')\n",
    "plt.ylabel('Frequency')\n",
    "order_day.hist()\n",
    "plt.show()"
   ]
  },
  {
   "cell_type": "markdown",
   "metadata": {
    "hidden": true
   },
   "source": [
    "This is distributed a little more evenly, however since the dataset does not state what the number \"0\" represents, we are going to assume 0 means Monday, and 6 means Sunday. According to this logic, most people order items during the weekdays between Mondays and Fridays (look at 5th and 95th percentile values). And most people order items on a Wednesday"
   ]
  },
  {
   "cell_type": "markdown",
   "metadata": {
    "heading_collapsed": true
   },
   "source": [
    "##### When do customers order?"
   ]
  },
  {
   "cell_type": "markdown",
   "metadata": {
    "hidden": true
   },
   "source": [
    "The previous two questions also answer this question."
   ]
  },
  {
   "cell_type": "markdown",
   "metadata": {
    "heading_collapsed": true
   },
   "source": [
    "##### When do customers order again?"
   ]
  },
  {
   "cell_type": "code",
   "execution_count": 49,
   "metadata": {
    "hidden": true
   },
   "outputs": [
    {
     "name": "stdout",
     "output_type": "stream",
     "text": [
      "count    206209.000000\n",
      "mean         15.448686\n",
      "std           6.915575\n",
      "min           0.000000\n",
      "5%            5.189189\n",
      "10%           6.666667\n",
      "25%           9.814815\n",
      "50%          15.000000\n",
      "75%          20.625000\n",
      "90%          25.142857\n",
      "95%          27.750000\n",
      "max          30.000000\n",
      "Name: days_since_prior_order, dtype: float64\n"
     ]
    },
    {
     "data": {
      "image/png": "[encoded data removed]",
      "text/plain": [
       "<Figure size 900x600 with 1 Axes>"
      ]
     },
     "metadata": {},
     "output_type": "display_data"
    }
   ],
   "source": [
    "order_again = orders.groupby('user_id').mean()['days_since_prior_order']\n",
    "print(order_again.describe(percentiles))\n",
    "plt.figure(dpi=150)\n",
    "plt.xlabel('Days since previous order')\n",
    "plt.ylabel('Frequency')\n",
    "order_again.hist()\n",
    "plt.show()"
   ]
  },
  {
   "cell_type": "markdown",
   "metadata": {
    "hidden": true
   },
   "source": [
    "Customers usually order again after about 15 days, however the difference in frequency between 15 days, 10 days and even 20 days is not too much. However, the histogram is skewed to the left in the sense that more people place orders after 30 days (the max) than they do after 0 day (the min)."
   ]
  },
  {
   "cell_type": "markdown",
   "metadata": {
    "heading_collapsed": true
   },
   "source": [
    "##### How many prior orders do customers have?"
   ]
  },
  {
   "cell_type": "markdown",
   "metadata": {
    "hidden": true
   },
   "source": [
    "First we needed to check what part of the dataset contains this information"
   ]
  },
  {
   "cell_type": "code",
   "execution_count": 51,
   "metadata": {
    "hidden": true,
    "scrolled": true
   },
   "outputs": [
    {
     "name": "stdout",
     "output_type": "stream",
     "text": [
      "    order_id  user_id eval_set  order_number  order_dow  order_hour_of_day  \\\n",
      "0    2539329        1    prior             1          2                  8   \n",
      "1    2398795        1    prior             2          3                  7   \n",
      "2     473747        1    prior             3          3                 12   \n",
      "3    2254736        1    prior             4          4                  7   \n",
      "4     431534        1    prior             5          4                 15   \n",
      "5    3367565        1    prior             6          2                  7   \n",
      "6     550135        1    prior             7          1                  9   \n",
      "7    3108588        1    prior             8          1                 14   \n",
      "8    2295261        1    prior             9          1                 16   \n",
      "9    2550362        1    prior            10          4                  8   \n",
      "10   1187899        1    train            11          4                  8   \n",
      "\n",
      "    days_since_prior_order  \n",
      "0                      NaN  \n",
      "1                     15.0  \n",
      "2                     21.0  \n",
      "3                     29.0  \n",
      "4                     28.0  \n",
      "5                     19.0  \n",
      "6                     20.0  \n",
      "7                     14.0  \n",
      "8                      0.0  \n",
      "9                     30.0  \n",
      "10                    14.0  \n"
     ]
    }
   ],
   "source": [
    "print(orders[orders['user_id'] == 1])"
   ]
  },
  {
   "cell_type": "markdown",
   "metadata": {
    "hidden": true
   },
   "source": [
    "Strategy: Remove all the rows in which days_since_prior_orders is \"NaN\", and then simply find the count of days_since_prior_order for each customer"
   ]
  },
  {
   "cell_type": "code",
   "execution_count": 57,
   "metadata": {
    "hidden": true
   },
   "outputs": [
    {
     "name": "stdout",
     "output_type": "stream",
     "text": [
      "    order_id  user_id eval_set  order_number  order_dow  order_hour_of_day  \\\n",
      "1    2398795        1    prior             2          3                  7   \n",
      "2     473747        1    prior             3          3                 12   \n",
      "3    2254736        1    prior             4          4                  7   \n",
      "4     431534        1    prior             5          4                 15   \n",
      "5    3367565        1    prior             6          2                  7   \n",
      "6     550135        1    prior             7          1                  9   \n",
      "7    3108588        1    prior             8          1                 14   \n",
      "8    2295261        1    prior             9          1                 16   \n",
      "9    2550362        1    prior            10          4                  8   \n",
      "10   1187899        1    train            11          4                  8   \n",
      "\n",
      "    days_since_prior_order  \n",
      "1                     15.0  \n",
      "2                     21.0  \n",
      "3                     29.0  \n",
      "4                     28.0  \n",
      "5                     19.0  \n",
      "6                     20.0  \n",
      "7                     14.0  \n",
      "8                      0.0  \n",
      "9                     30.0  \n",
      "10                    14.0  \n"
     ]
    }
   ],
   "source": [
    "prior_orders = orders[orders['days_since_prior_order'].notnull()]\n",
    "print(prior_orders[prior_orders['user_id'] == 1])"
   ]
  },
  {
   "cell_type": "code",
   "execution_count": 83,
   "metadata": {
    "hidden": true
   },
   "outputs": [
    {
     "name": "stdout",
     "output_type": "stream",
     "text": [
      "count    206209.000000\n",
      "mean         15.590367\n",
      "std          16.654774\n",
      "min           3.000000\n",
      "5%            3.000000\n",
      "10%           3.000000\n",
      "25%           5.000000\n",
      "50%           9.000000\n",
      "75%          19.000000\n",
      "90%          37.000000\n",
      "95%          51.000000\n",
      "max          99.000000\n",
      "Name: days_since_prior_order, dtype: float64\n"
     ]
    },
    {
     "data": {
      "image/png": "[encoded data removed]",
      "text/plain": [
       "<Figure size 900x600 with 1 Axes>"
      ]
     },
     "metadata": {},
     "output_type": "display_data"
    }
   ],
   "source": [
    "prior_orders_count = prior_orders.groupby('user_id') \\\n",
    "                                    .count()['days_since_prior_order'] \\\n",
    "\n",
    "print(prior_orders_count.describe(percentiles))\n",
    "plt.figure(dpi=150)\n",
    "plt.xlabel('Number of prior orders')\n",
    "plt.ylabel('Frequency')\n",
    "prior_orders_count.hist(bins=20)\n",
    "plt.show()"
   ]
  },
  {
   "cell_type": "markdown",
   "metadata": {
    "hidden": true
   },
   "source": [
    "On average, customers have about 15 prior orders. But as can be seen, the histogram is extremely skewed to the right, so the mean is not a good way to tell. 50% of the people actually have 9 or less prior orders. The mean is effected because of 1 (or more? let's find out) customer than has 99 prior orders who seems to be an outlier."
   ]
  },
  {
   "cell_type": "code",
   "execution_count": 68,
   "metadata": {
    "hidden": true
   },
   "outputs": [
    {
     "name": "stdout",
     "output_type": "stream",
     "text": [
      "1905\n"
     ]
    }
   ],
   "source": [
    "print(len(prior_orders_count[prior_orders_count >= 90]))"
   ]
  },
  {
   "cell_type": "markdown",
   "metadata": {
    "hidden": true
   },
   "source": [
    "There are actually 1905 users that have more 90 prior orders, but they should still be considered outliers since the total number is in fact 206,209."
   ]
  },
  {
   "cell_type": "markdown",
   "metadata": {
    "heading_collapsed": true
   },
   "source": [
    "##### How many items do customers usually order"
   ]
  },
  {
   "cell_type": "markdown",
   "metadata": {
    "hidden": true
   },
   "source": [
    "This question can be interpreted as how many items are there in an order"
   ]
  },
  {
   "cell_type": "code",
   "execution_count": 76,
   "metadata": {
    "hidden": true
   },
   "outputs": [
    {
     "name": "stdout",
     "output_type": "stream",
     "text": [
      "order_id\n",
      "2     9\n",
      "3     8\n",
      "4    13\n",
      "5    26\n",
      "6     3\n",
      "Name: product_id, dtype: int64\n"
     ]
    }
   ],
   "source": [
    "items_count = order_products_prior.groupby('order_id').count()['product_id']\n",
    "print(items_count.head())"
   ]
  },
  {
   "cell_type": "code",
   "execution_count": 82,
   "metadata": {
    "hidden": true
   },
   "outputs": [
    {
     "name": "stdout",
     "output_type": "stream",
     "text": [
      "count    3.214874e+06\n",
      "mean     1.008888e+01\n",
      "std      7.525398e+00\n",
      "min      1.000000e+00\n",
      "5%       2.000000e+00\n",
      "10%      2.000000e+00\n",
      "25%      5.000000e+00\n",
      "50%      8.000000e+00\n",
      "75%      1.400000e+01\n",
      "90%      2.000000e+01\n",
      "95%      2.500000e+01\n",
      "max      1.450000e+02\n",
      "Name: product_id, dtype: float64\n"
     ]
    },
    {
     "data": {
      "image/png": "[encoded data removed]",
      "text/plain": [
       "<Figure size 900x600 with 1 Axes>"
      ]
     },
     "metadata": {},
     "output_type": "display_data"
    }
   ],
   "source": [
    "print(items_count.describe(percentiles))\n",
    "plt.figure(dpi=150)\n",
    "plt.xlabel('Number of Items')\n",
    "plt.ylabel('Frequency')\n",
    "items_count.hist(bins=20)\n",
    "plt.show()"
   ]
  },
  {
   "cell_type": "markdown",
   "metadata": {
    "hidden": true
   },
   "source": [
    "On average customers order just 1 item in one order. However, once again the histogram is extremely skewed to the right. The median of the data is actually 8. Moreover, the data also has outliers in this case, since the max value here is 145 items in a single order! Even though the 95% percentile is 25 items in a single order. "
   ]
  },
  {
   "cell_type": "markdown",
   "metadata": {
    "heading_collapsed": true
   },
   "source": [
    "##### How often do people order the same items again?"
   ]
  },
  {
   "cell_type": "code",
   "execution_count": 85,
   "metadata": {
    "hidden": true
   },
   "outputs": [
    {
     "name": "stdout",
     "output_type": "stream",
     "text": [
      "   order_id  product_id  add_to_cart_order  reordered\n",
      "0         2       33120                  1          1\n",
      "1         2       28985                  2          1\n",
      "3         2       45918                  4          1\n",
      "5         2       17794                  6          1\n",
      "6         2       40141                  7          1\n"
     ]
    }
   ],
   "source": [
    "reordered_items = order_products_prior[order_products_prior['reordered'] == 1]\n",
    "print(reordered_items.head())"
   ]
  },
  {
   "cell_type": "code",
   "execution_count": 91,
   "metadata": {
    "hidden": true
   },
   "outputs": [
    {
     "name": "stdout",
     "output_type": "stream",
     "text": [
      "   order_id  reordered\n",
      "0         2          6\n",
      "1         3          8\n",
      "2         4         12\n",
      "3         5         21\n",
      "4         8          1\n"
     ]
    }
   ],
   "source": [
    "num_reorder_per_order = reordered_items.groupby('order_id').count()['reordered'].reset_index()\n",
    "print(num_reorder_per_order.head())"
   ]
  },
  {
   "cell_type": "code",
   "execution_count": 92,
   "metadata": {
    "hidden": true
   },
   "outputs": [
    {
     "name": "stdout",
     "output_type": "stream",
     "text": [
      "   order_id  user_id  reordered\n",
      "0   2398795        1          3\n",
      "1    473747        1          3\n",
      "2   2254736        1          5\n",
      "3    431534        1          5\n",
      "4   3367565        1          4\n"
     ]
    }
   ],
   "source": [
    "user_reorder_count = pd.merge(orders[['order_id','user_id']], num_reorder_per_order, on='order_id')\n",
    "print(user_reorder_count.head())"
   ]
  },
  {
   "cell_type": "code",
   "execution_count": 95,
   "metadata": {
    "hidden": true
   },
   "outputs": [
    {
     "name": "stdout",
     "output_type": "stream",
     "text": [
      "user_id\n",
      "1    41\n",
      "2    93\n",
      "3    55\n",
      "4     1\n",
      "5    14\n",
      "Name: reordered, dtype: int64\n"
     ]
    }
   ],
   "source": [
    "num_user_reorder = user_reorder_count.groupby('user_id').sum()['reordered']\n",
    "print(num_user_reorder.head())"
   ]
  },
  {
   "cell_type": "code",
   "execution_count": 96,
   "metadata": {
    "hidden": true
   },
   "outputs": [
    {
     "name": "stdout",
     "output_type": "stream",
     "text": [
      "count    203164.000000\n",
      "mean         94.143332\n",
      "std         159.172463\n",
      "min           1.000000\n",
      "5%            2.000000\n",
      "10%           4.000000\n",
      "25%          11.000000\n",
      "50%          34.000000\n",
      "75%         103.000000\n",
      "90%         256.000000\n",
      "95%         406.000000\n",
      "max        3275.000000\n",
      "Name: reordered, dtype: float64\n"
     ]
    },
    {
     "data": {
      "image/png": "[encoded data removed]",
      "text/plain": [
       "<Figure size 900x600 with 1 Axes>"
      ]
     },
     "metadata": {},
     "output_type": "display_data"
    }
   ],
   "source": [
    "print(num_user_reorder.describe(percentiles))\n",
    "plt.figure(dpi=150)\n",
    "plt.xlabel('Number of Reorders per user')\n",
    "plt.ylabel('Frequency')\n",
    "num_user_reorder.hist(bins=20)\n",
    "plt.show()"
   ]
  },
  {
   "cell_type": "markdown",
   "metadata": {
    "hidden": true
   },
   "source": [
    "On average users reorder items about 94 times. But this is, as before, also right-skewed, and the median value is actually 34 reorders per user. The max is also unusually high, at 3275."
   ]
  },
  {
   "cell_type": "markdown",
   "metadata": {
    "heading_collapsed": true
   },
   "source": [
    "##### Which product put first"
   ]
  },
  {
   "cell_type": "code",
   "execution_count": 99,
   "metadata": {
    "hidden": true
   },
   "outputs": [
    {
     "name": "stdout",
     "output_type": "stream",
     "text": [
      "    order_id  product_id  add_to_cart_order  reordered\n",
      "0          2       33120                  1          1\n",
      "9          3       33754                  1          1\n",
      "17         4       46842                  1          0\n",
      "30         5       13176                  1          1\n",
      "56         6       40462                  1          0\n"
     ]
    }
   ],
   "source": [
    "first_items = order_products_prior[order_products_prior['add_to_cart_order'] == 1]\n",
    "print(first_items.head())"
   ]
  },
  {
   "cell_type": "code",
   "execution_count": 106,
   "metadata": {
    "hidden": true
   },
   "outputs": [
    {
     "name": "stdout",
     "output_type": "stream",
     "text": [
      "       order_id  product_id  add_to_cart_order  reordered  \\\n",
      "0             2       33120                  1          1   \n",
      "2379          3       33754                  1          1   \n",
      "5036          4       46842                  1          0   \n",
      "6027          5       13176                  1          1   \n",
      "85015         6       40462                  1          0   \n",
      "\n",
      "                                            product_name  \n",
      "0                                     Organic Egg Whites  \n",
      "2379   Total 2% with Strawberry Lowfat Greek Strained...  \n",
      "5036                             Plain Pre-Sliced Bagels  \n",
      "6027                              Bag of Organic Bananas  \n",
      "85015                                            Cleanse  \n"
     ]
    }
   ],
   "source": [
    "first_item_names = pd.merge(first_items, \n",
    "                            products[['product_id', 'product_name']], \n",
    "                            on='product_id').sort_values('order_id')\n",
    "\n",
    "print(first_item_names.head())"
   ]
  },
  {
   "cell_type": "code",
   "execution_count": 107,
   "metadata": {
    "hidden": true
   },
   "outputs": [
    {
     "name": "stdout",
     "output_type": "stream",
     "text": [
      "product_name\n",
      "Banana                    110916\n",
      "Bag of Organic Bananas     78988\n",
      "Organic Whole Milk         30927\n",
      "Organic Strawberries       27975\n",
      "Organic Hass Avocado       24116\n",
      "Name: order_id, dtype: int64\n"
     ]
    }
   ],
   "source": [
    "put_first_count = first_item_names.groupby('product_name') \\\n",
    "                                    .count()['order_id'] \\\n",
    "                                    .sort_values(ascending=False)\n",
    "print(put_first_count.head())"
   ]
  },
  {
   "cell_type": "markdown",
   "metadata": {
    "hidden": true
   },
   "source": [
    "This is also bananas"
   ]
  }
 ],
 "metadata": {
  "kernelspec": {
   "display_name": "Python 3",
   "language": "python",
   "name": "python3"
  },
  "language_info": {
   "codemirror_mode": {
    "name": "ipython",
    "version": 3
   },
   "file_extension": ".py",
   "mimetype": "text/x-python",
   "name": "python",
   "nbconvert_exporter": "python",
   "pygments_lexer": "ipython3",
   "version": "3.6.8"
  },
  "toc": {
   "base_numbering": 1,
   "nav_menu": {},
   "number_sections": true,
   "sideBar": true,
   "skip_h1_title": false,
   "title_cell": "Table of Contents",
   "title_sidebar": "Contents",
   "toc_cell": false,
   "toc_position": {},
   "toc_section_display": true,
   "toc_window_display": false
  }
 },
 "nbformat": 4,
 "nbformat_minor": 2
}
