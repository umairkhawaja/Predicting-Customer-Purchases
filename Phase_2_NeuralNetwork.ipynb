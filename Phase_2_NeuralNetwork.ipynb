{
 "cells": [
  {
   "cell_type": "markdown",
   "metadata": {
    "colab_type": "text",
    "id": "8dnS-V5-39nZ"
   },
   "source": [
    "## Project Phase 2 - Classificiation using Neural Network\n",
    "\n",
    "Group Members:\n",
    "Asim Waheed: 20100237\n",
    "Omer Arshad: 20100194\n",
    "Khawaja Umair ul Hassan: 20100286"
   ]
  },
  {
   "cell_type": "markdown",
   "metadata": {
    "colab_type": "text",
    "id": "wKkg4Gjwec-H"
   },
   "source": [
    "In this notebook we will be using Keras to build a Neural Network in order to do the classification for us."
   ]
  },
  {
   "cell_type": "code",
   "execution_count": 100,
   "metadata": {
    "colab": {
     "base_uri": "https://localhost:8080/",
     "height": 34
    },
    "colab_type": "code",
    "executionInfo": {
     "elapsed": 1347,
     "status": "ok",
     "timestamp": 1555865140252,
     "user": {
      "displayName": "Asim Waheed",
      "photoUrl": "https://lh3.googleusercontent.com/-DKJYFOBt9mM/AAAAAAAAAAI/AAAAAAAACPc/WgYaEqe9TIs/s64/photo.jpg",
      "userId": "11738985371570972172"
     },
     "user_tz": -300
    },
    "id": "o4O3uE-l39nh",
    "outputId": "766a15c9-ce0d-4361-a34f-6be8ea885490"
   },
   "outputs": [
    {
     "name": "stdout",
     "output_type": "stream",
     "text": [
      "Drive already mounted at /content/drive; to attempt to forcibly remount, call drive.mount(\"/content/drive\", force_remount=True).\n"
     ]
    }
   ],
   "source": [
    "import pandas as pd \n",
    "import numpy as np\n",
    "import matplotlib.pyplot as plt\n",
    "import seaborn as sns\n",
    "import os\n",
    "%matplotlib inline\n",
    "\n",
    "from google.colab import drive\n",
    "drive.mount('/content/drive')\n",
    "data_dir = '/content/drive/My Drive/Colab/DataMining_Project/'"
   ]
  },
  {
   "cell_type": "code",
   "execution_count": 0,
   "metadata": {
    "colab": {
     "base_uri": "https://localhost:8080/",
     "height": 34
    },
    "colab_type": "code",
    "executionInfo": {
     "elapsed": 1109,
     "status": "ok",
     "timestamp": 1555862534870,
     "user": {
      "displayName": "Asim Waheed",
      "photoUrl": "https://lh3.googleusercontent.com/-DKJYFOBt9mM/AAAAAAAAAAI/AAAAAAAACPc/WgYaEqe9TIs/s64/photo.jpg",
      "userId": "11738985371570972172"
     },
     "user_tz": -300
    },
    "id": "LKYJLlGzeRjb",
    "outputId": "22a164bf-b7c1-482c-c96c-abe03a79cfed"
   },
   "outputs": [
    {
     "data": {
      "text/plain": [
       "'/device:GPU:0'"
      ]
     },
     "execution_count": 45,
     "metadata": {
      "tags": []
     },
     "output_type": "execute_result"
    }
   ],
   "source": [
    "import tensorflow as tf\n",
    "from keras.models import Model\n",
    "from keras.models import Model\n",
    "from keras.layers import Dense, Input, Dropout, BatchNormalization\n",
    "from keras.optimizers import Adam\n",
    "from keras.utils import to_categorical\n",
    "from keras.callbacks import ModelCheckpoint, EarlyStopping, CSVLogger, ReduceLROnPlateau, TensorBoard\n",
    "import keras.backend as K\n",
    "import keras\n",
    "\n",
    "from sklearn.model_selection import train_test_split\n",
    "\n",
    "tf.test.gpu_device_name()"
   ]
  },
  {
   "cell_type": "markdown",
   "metadata": {
    "colab_type": "text",
    "id": "yo6PwIrNeuBF"
   },
   "source": [
    "### Load Dataset"
   ]
  },
  {
   "cell_type": "code",
   "execution_count": 0,
   "metadata": {
    "colab": {},
    "colab_type": "code",
    "id": "UO0m27ZefEIM"
   },
   "outputs": [],
   "source": [
    "X = pd.read_pickle(data_dir+'X.pkl')\n",
    "Y = pd.read_pickle(data_dir+'Y.pkl')"
   ]
  },
  {
   "cell_type": "code",
   "execution_count": 0,
   "metadata": {
    "colab": {
     "base_uri": "https://localhost:8080/",
     "height": 204
    },
    "colab_type": "code",
    "executionInfo": {
     "elapsed": 1513,
     "status": "ok",
     "timestamp": 1555862542343,
     "user": {
      "displayName": "Asim Waheed",
      "photoUrl": "https://lh3.googleusercontent.com/-DKJYFOBt9mM/AAAAAAAAAAI/AAAAAAAACPc/WgYaEqe9TIs/s64/photo.jpg",
      "userId": "11738985371570972172"
     },
     "user_tz": -300
    },
    "id": "071PBoIwfagz",
    "outputId": "c41ea626-7240-46b0-e7d2-cced23d84a36"
   },
   "outputs": [
    {
     "data": {
      "text/html": [
       "<div>\n",
       "<style scoped>\n",
       "    .dataframe tbody tr th:only-of-type {\n",
       "        vertical-align: middle;\n",
       "    }\n",
       "\n",
       "    .dataframe tbody tr th {\n",
       "        vertical-align: top;\n",
       "    }\n",
       "\n",
       "    .dataframe thead th {\n",
       "        text-align: right;\n",
       "    }\n",
       "</style>\n",
       "<table border=\"1\" class=\"dataframe\">\n",
       "  <thead>\n",
       "    <tr style=\"text-align: right;\">\n",
       "      <th></th>\n",
       "      <th>order_number</th>\n",
       "      <th>add_to_cart_order</th>\n",
       "      <th>department_id</th>\n",
       "      <th>days_since_prior_order</th>\n",
       "      <th>order_hour_of_day</th>\n",
       "      <th>order_dow</th>\n",
       "      <th>aisle_id</th>\n",
       "      <th>product_id</th>\n",
       "    </tr>\n",
       "  </thead>\n",
       "  <tbody>\n",
       "    <tr>\n",
       "      <th>0</th>\n",
       "      <td>1</td>\n",
       "      <td>30</td>\n",
       "      <td>19</td>\n",
       "      <td>0.0</td>\n",
       "      <td>15</td>\n",
       "      <td>1</td>\n",
       "      <td>61</td>\n",
       "      <td>1</td>\n",
       "    </tr>\n",
       "    <tr>\n",
       "      <th>1</th>\n",
       "      <td>4</td>\n",
       "      <td>1</td>\n",
       "      <td>19</td>\n",
       "      <td>14.0</td>\n",
       "      <td>14</td>\n",
       "      <td>1</td>\n",
       "      <td>61</td>\n",
       "      <td>1</td>\n",
       "    </tr>\n",
       "    <tr>\n",
       "      <th>2</th>\n",
       "      <td>18</td>\n",
       "      <td>13</td>\n",
       "      <td>19</td>\n",
       "      <td>7.0</td>\n",
       "      <td>22</td>\n",
       "      <td>0</td>\n",
       "      <td>61</td>\n",
       "      <td>1</td>\n",
       "    </tr>\n",
       "    <tr>\n",
       "      <th>3</th>\n",
       "      <td>2</td>\n",
       "      <td>5</td>\n",
       "      <td>19</td>\n",
       "      <td>20.0</td>\n",
       "      <td>12</td>\n",
       "      <td>2</td>\n",
       "      <td>61</td>\n",
       "      <td>1</td>\n",
       "    </tr>\n",
       "    <tr>\n",
       "      <th>4</th>\n",
       "      <td>7</td>\n",
       "      <td>12</td>\n",
       "      <td>19</td>\n",
       "      <td>15.0</td>\n",
       "      <td>5</td>\n",
       "      <td>3</td>\n",
       "      <td>61</td>\n",
       "      <td>1</td>\n",
       "    </tr>\n",
       "  </tbody>\n",
       "</table>\n",
       "</div>"
      ],
      "text/plain": [
       "   order_number  add_to_cart_order  department_id  days_since_prior_order  \\\n",
       "0             1                 30             19                     0.0   \n",
       "1             4                  1             19                    14.0   \n",
       "2            18                 13             19                     7.0   \n",
       "3             2                  5             19                    20.0   \n",
       "4             7                 12             19                    15.0   \n",
       "\n",
       "   order_hour_of_day  order_dow  aisle_id  product_id  \n",
       "0                 15          1        61           1  \n",
       "1                 14          1        61           1  \n",
       "2                 22          0        61           1  \n",
       "3                 12          2        61           1  \n",
       "4                  5          3        61           1  "
      ]
     },
     "execution_count": 47,
     "metadata": {
      "tags": []
     },
     "output_type": "execute_result"
    }
   ],
   "source": [
    "X.head()"
   ]
  },
  {
   "cell_type": "code",
   "execution_count": 0,
   "metadata": {
    "colab": {
     "base_uri": "https://localhost:8080/",
     "height": 119
    },
    "colab_type": "code",
    "executionInfo": {
     "elapsed": 1145,
     "status": "ok",
     "timestamp": 1555862542346,
     "user": {
      "displayName": "Asim Waheed",
      "photoUrl": "https://lh3.googleusercontent.com/-DKJYFOBt9mM/AAAAAAAAAAI/AAAAAAAACPc/WgYaEqe9TIs/s64/photo.jpg",
      "userId": "11738985371570972172"
     },
     "user_tz": -300
    },
    "id": "oEPis1Vjfb7-",
    "outputId": "91c2e654-22e6-4e17-d0d8-07c3559f9b1b"
   },
   "outputs": [
    {
     "data": {
      "text/plain": [
       "0    0\n",
       "1    1\n",
       "2    1\n",
       "3    0\n",
       "4    0\n",
       "Name: reordered, dtype: int64"
      ]
     },
     "execution_count": 48,
     "metadata": {
      "tags": []
     },
     "output_type": "execute_result"
    }
   ],
   "source": [
    "Y.head()"
   ]
  },
  {
   "cell_type": "code",
   "execution_count": 0,
   "metadata": {
    "colab": {},
    "colab_type": "code",
    "id": "Amdyrztvkztz"
   },
   "outputs": [],
   "source": [
    "X_arr = X.to_numpy()\n",
    "Y_arr = Y.to_numpy()\n",
    "\n",
    "Y_categorical = to_categorical(Y_arr, 2, 'int64')\n",
    "# Keras works bettert with Numpy arrays"
   ]
  },
  {
   "cell_type": "code",
   "execution_count": 0,
   "metadata": {
    "colab": {
     "base_uri": "https://localhost:8080/",
     "height": 34
    },
    "colab_type": "code",
    "executionInfo": {
     "elapsed": 904,
     "status": "ok",
     "timestamp": 1555862542872,
     "user": {
      "displayName": "Asim Waheed",
      "photoUrl": "https://lh3.googleusercontent.com/-DKJYFOBt9mM/AAAAAAAAAAI/AAAAAAAACPc/WgYaEqe9TIs/s64/photo.jpg",
      "userId": "11738985371570972172"
     },
     "user_tz": -300
    },
    "id": "kligXSBbf3Wc",
    "outputId": "2de7ae37-09b4-476e-8066-5dabb8ba8b8e"
   },
   "outputs": [
    {
     "data": {
      "text/plain": [
       "(9737270, 8)"
      ]
     },
     "execution_count": 50,
     "metadata": {
      "tags": []
     },
     "output_type": "execute_result"
    }
   ],
   "source": [
    "X_arr.shape"
   ]
  },
  {
   "cell_type": "code",
   "execution_count": 0,
   "metadata": {
    "colab": {
     "base_uri": "https://localhost:8080/",
     "height": 34
    },
    "colab_type": "code",
    "executionInfo": {
     "elapsed": 1230,
     "status": "ok",
     "timestamp": 1555862543538,
     "user": {
      "displayName": "Asim Waheed",
      "photoUrl": "https://lh3.googleusercontent.com/-DKJYFOBt9mM/AAAAAAAAAAI/AAAAAAAACPc/WgYaEqe9TIs/s64/photo.jpg",
      "userId": "11738985371570972172"
     },
     "user_tz": -300
    },
    "id": "44cfu1gdkwMh",
    "outputId": "891df3ad-a771-4a3b-d549-495f2d9291db"
   },
   "outputs": [
    {
     "data": {
      "text/plain": [
       "(9737270, 2)"
      ]
     },
     "execution_count": 51,
     "metadata": {
      "tags": []
     },
     "output_type": "execute_result"
    }
   ],
   "source": [
    "Y_categorical.shape"
   ]
  },
  {
   "cell_type": "code",
   "execution_count": 0,
   "metadata": {
    "colab": {},
    "colab_type": "code",
    "id": "X6BMy7ysjyJN"
   },
   "outputs": [],
   "source": [
    "X_train, X_test, Y_train, Y_test = train_test_split(X_arr, Y_categorical, test_size=0.3, random_state=42) "
   ]
  },
  {
   "cell_type": "markdown",
   "metadata": {
    "colab_type": "text",
    "id": "8tuVWHLxftlm"
   },
   "source": [
    "### Make and Train the Model"
   ]
  },
  {
   "cell_type": "markdown",
   "metadata": {
    "colab_type": "text",
    "id": "GVP999uKf7of"
   },
   "source": [
    "We will be using the Keras Functional API to make a 3-layer neural network. We'll be using several callbacks to make sure the model is efficient. We are using a checkpoint callback that allows the model to pick the best weights from many epochs rather than just using the latest epochs. Similarly we'll be using a CSVLogger to check the model in detail. Lastly, ReduceLROnPlateau allows us to set a higher learning rate initially so that it can converge quicker without worrying about it not being able to fine-tune when it starts to get closer to a minima."
   ]
  },
  {
   "cell_type": "code",
   "execution_count": 0,
   "metadata": {
    "colab": {},
    "colab_type": "code",
    "id": "GzHFTfkZgARd"
   },
   "outputs": [],
   "source": [
    "model_name = 'instaCartModel'\n",
    "\n",
    "checkpoint = ModelCheckpoint(data_dir+model_name+'/'+model_name+'-{epoch:02d}-{val_loss:.2f}.h5', \n",
    "                             monitor='val_loss', verbose=1, save_best_only=True, mode='auto')\n",
    "cvslogger = CSVLogger(data_dir+model_name+'/logs.csv', separator=',', append=True)\n",
    "reducelr = ReduceLROnPlateau(monitor='val_loss', factor=0.2, patience=3, min_lr=0.000001)\n",
    "\n",
    "\n",
    "callbacks = [checkpoint, cvslogger, reducelr]"
   ]
  },
  {
   "cell_type": "markdown",
   "metadata": {
    "colab_type": "text",
    "id": "lhp5ryRRhUBk"
   },
   "source": [
    "##### Hyperparameters:"
   ]
  },
  {
   "cell_type": "code",
   "execution_count": 0,
   "metadata": {
    "colab": {},
    "colab_type": "code",
    "id": "yg03MMOYgv0R"
   },
   "outputs": [],
   "source": [
    "num_classes = 2\n",
    "num_features = 8\n",
    "epochs = 25\n",
    "batch_size = 3072"
   ]
  },
  {
   "cell_type": "markdown",
   "metadata": {
    "colab_type": "text",
    "id": "s6l1Em5JhTnB"
   },
   "source": [
    "##### Actual Model"
   ]
  },
  {
   "cell_type": "code",
   "execution_count": 0,
   "metadata": {
    "colab": {},
    "colab_type": "code",
    "id": "zvS0HPJlhZqg"
   },
   "outputs": [],
   "source": [
    "inp = Input(shape=(num_features,), name='input_im')\n",
    "dense1 = Dense(128, activation='relu')(inp)\n",
    "batch_norm1 = BatchNormalization()(dense1)\n",
    "dense2 = Dense(256, activation='relu')(batch_norm1)\n",
    "batch_norm2 = BatchNormalization()(dense2)\n",
    "dense3 = Dense(128, activation='relu')(batch_norm2)\n",
    "batch_norm3 = BatchNormalization()(dense3)\n",
    "output = Dense(num_classes, activation='softmax')(batch_norm3)\n",
    "\n",
    "model = Model(inputs=inp, outputs=output)"
   ]
  },
  {
   "cell_type": "code",
   "execution_count": 0,
   "metadata": {
    "colab": {
     "base_uri": "https://localhost:8080/",
     "height": 408
    },
    "colab_type": "code",
    "executionInfo": {
     "elapsed": 864,
     "status": "ok",
     "timestamp": 1555863297322,
     "user": {
      "displayName": "Asim Waheed",
      "photoUrl": "https://lh3.googleusercontent.com/-DKJYFOBt9mM/AAAAAAAAAAI/AAAAAAAACPc/WgYaEqe9TIs/s64/photo.jpg",
      "userId": "11738985371570972172"
     },
     "user_tz": -300
    },
    "id": "L5qr82bjhsgu",
    "outputId": "ec22c696-2db8-44ec-bff4-35a85015debd"
   },
   "outputs": [
    {
     "name": "stdout",
     "output_type": "stream",
     "text": [
      "_________________________________________________________________\n",
      "Layer (type)                 Output Shape              Param #   \n",
      "=================================================================\n",
      "input_im (InputLayer)        (None, 8)                 0         \n",
      "_________________________________________________________________\n",
      "dense_45 (Dense)             (None, 128)               1152      \n",
      "_________________________________________________________________\n",
      "batch_normalization_34 (Batc (None, 128)               512       \n",
      "_________________________________________________________________\n",
      "dense_46 (Dense)             (None, 256)               33024     \n",
      "_________________________________________________________________\n",
      "batch_normalization_35 (Batc (None, 256)               1024      \n",
      "_________________________________________________________________\n",
      "dense_47 (Dense)             (None, 128)               32896     \n",
      "_________________________________________________________________\n",
      "batch_normalization_36 (Batc (None, 128)               512       \n",
      "_________________________________________________________________\n",
      "dense_48 (Dense)             (None, 2)                 258       \n",
      "=================================================================\n",
      "Total params: 69,378\n",
      "Trainable params: 68,354\n",
      "Non-trainable params: 1,024\n",
      "_________________________________________________________________\n"
     ]
    }
   ],
   "source": [
    "if not os.path.exists(data_dir+model_name):\n",
    "    os.mkdir(data_dir+model_name)\n",
    "   \n",
    "adam = Adam(lr=0.001)\n",
    "model.compile(loss='categorical_crossentropy', \n",
    "              optimizer=adam, \n",
    "              metrics=['accuracy'])\n",
    "\n",
    "model.summary()"
   ]
  },
  {
   "cell_type": "markdown",
   "metadata": {
    "colab_type": "text",
    "id": "chGchZpgs_Pn"
   },
   "source": [
    "In the output below even the first val_loss is low, this is because of the callbacks. We ran the model multiple times by changing some of the hyperparameters and each time instead of starting from scratch it used the previously learned best model and then improved it further. Because of this the average accuracy slowly gets better"
   ]
  },
  {
   "cell_type": "code",
   "execution_count": 90,
   "metadata": {
    "colab": {
     "base_uri": "https://localhost:8080/",
     "height": 1751
    },
    "colab_type": "code",
    "executionInfo": {
     "elapsed": 440920,
     "status": "ok",
     "timestamp": 1555864275925,
     "user": {
      "displayName": "Asim Waheed",
      "photoUrl": "https://lh3.googleusercontent.com/-DKJYFOBt9mM/AAAAAAAAAAI/AAAAAAAACPc/WgYaEqe9TIs/s64/photo.jpg",
      "userId": "11738985371570972172"
     },
     "user_tz": -300
    },
    "id": "M3qBulCeklQO",
    "outputId": "34207787-f5a3-4ab9-ab9a-6e87bb7b972c"
   },
   "outputs": [
    {
     "name": "stdout",
     "output_type": "stream",
     "text": [
      "Train on 5452871 samples, validate on 1363218 samples\n",
      "Epoch 1/25\n",
      "5452871/5452871 [==============================] - 18s 3us/step - loss: 0.5326 - acc: 0.7260 - val_loss: 0.5319 - val_acc: 0.7266\n",
      "\n",
      "Epoch 00001: val_loss did not improve from 0.53189\n",
      "Epoch 2/25\n",
      "5452871/5452871 [==============================] - 19s 3us/step - loss: 0.5326 - acc: 0.7261 - val_loss: 0.5320 - val_acc: 0.7265\n",
      "\n",
      "Epoch 00002: val_loss did not improve from 0.53189\n",
      "Epoch 3/25\n",
      "5452871/5452871 [==============================] - 18s 3us/step - loss: 0.5326 - acc: 0.7260 - val_loss: 0.5319 - val_acc: 0.7266\n",
      "\n",
      "Epoch 00003: val_loss did not improve from 0.53189\n",
      "Epoch 4/25\n",
      "5452871/5452871 [==============================] - 17s 3us/step - loss: 0.5326 - acc: 0.7261 - val_loss: 0.5319 - val_acc: 0.7265\n",
      "\n",
      "Epoch 00004: val_loss did not improve from 0.53189\n",
      "Epoch 5/25\n",
      "5452871/5452871 [==============================] - 18s 3us/step - loss: 0.5326 - acc: 0.7260 - val_loss: 0.5320 - val_acc: 0.7265\n",
      "\n",
      "Epoch 00005: val_loss did not improve from 0.53189\n",
      "Epoch 6/25\n",
      "5452871/5452871 [==============================] - 18s 3us/step - loss: 0.5326 - acc: 0.7260 - val_loss: 0.5319 - val_acc: 0.7266\n",
      "\n",
      "Epoch 00006: val_loss did not improve from 0.53189\n",
      "Epoch 7/25\n",
      "5452871/5452871 [==============================] - 18s 3us/step - loss: 0.5326 - acc: 0.7260 - val_loss: 0.5319 - val_acc: 0.7266\n",
      "\n",
      "Epoch 00007: val_loss improved from 0.53189 to 0.53188, saving model to /content/drive/My Drive/Colab/DataMining_Project/instaCartModel/instaCartModel-07-0.53.h5\n",
      "Epoch 8/25\n",
      "5452871/5452871 [==============================] - 17s 3us/step - loss: 0.5326 - acc: 0.7260 - val_loss: 0.5319 - val_acc: 0.7266\n",
      "\n",
      "Epoch 00008: val_loss did not improve from 0.53188\n",
      "Epoch 9/25\n",
      "5452871/5452871 [==============================] - 18s 3us/step - loss: 0.5326 - acc: 0.7261 - val_loss: 0.5319 - val_acc: 0.7266\n",
      "\n",
      "Epoch 00009: val_loss improved from 0.53188 to 0.53188, saving model to /content/drive/My Drive/Colab/DataMining_Project/instaCartModel/instaCartModel-09-0.53.h5\n",
      "Epoch 10/25\n",
      "5452871/5452871 [==============================] - 18s 3us/step - loss: 0.5326 - acc: 0.7261 - val_loss: 0.5319 - val_acc: 0.7266\n",
      "\n",
      "Epoch 00010: val_loss did not improve from 0.53188\n",
      "Epoch 11/25\n",
      "5452871/5452871 [==============================] - 18s 3us/step - loss: 0.5326 - acc: 0.7260 - val_loss: 0.5319 - val_acc: 0.7266\n",
      "\n",
      "Epoch 00011: val_loss did not improve from 0.53188\n",
      "Epoch 12/25\n",
      "5452871/5452871 [==============================] - 17s 3us/step - loss: 0.5326 - acc: 0.7261 - val_loss: 0.5319 - val_acc: 0.7266\n",
      "\n",
      "Epoch 00012: val_loss did not improve from 0.53188\n",
      "Epoch 13/25\n",
      "5452871/5452871 [==============================] - 17s 3us/step - loss: 0.5326 - acc: 0.7260 - val_loss: 0.5319 - val_acc: 0.7265\n",
      "\n",
      "Epoch 00013: val_loss did not improve from 0.53188\n",
      "Epoch 14/25\n",
      "5452871/5452871 [==============================] - 17s 3us/step - loss: 0.5326 - acc: 0.7261 - val_loss: 0.5331 - val_acc: 0.7257\n",
      "\n",
      "Epoch 00014: val_loss did not improve from 0.53188\n",
      "Epoch 15/25\n",
      "5452871/5452871 [==============================] - 17s 3us/step - loss: 0.5326 - acc: 0.7260 - val_loss: 0.5319 - val_acc: 0.7267\n",
      "\n",
      "Epoch 00015: val_loss did not improve from 0.53188\n",
      "Epoch 16/25\n",
      "5452871/5452871 [==============================] - 18s 3us/step - loss: 0.5326 - acc: 0.7260 - val_loss: 0.5318 - val_acc: 0.7266\n",
      "\n",
      "Epoch 00016: val_loss improved from 0.53188 to 0.53185, saving model to /content/drive/My Drive/Colab/DataMining_Project/instaCartModel/instaCartModel-16-0.53.h5\n",
      "Epoch 17/25\n",
      "5452871/5452871 [==============================] - 17s 3us/step - loss: 0.5326 - acc: 0.7260 - val_loss: 0.5321 - val_acc: 0.7265\n",
      "\n",
      "Epoch 00017: val_loss did not improve from 0.53185\n",
      "Epoch 18/25\n",
      "5452871/5452871 [==============================] - 17s 3us/step - loss: 0.5326 - acc: 0.7261 - val_loss: 0.5319 - val_acc: 0.7266\n",
      "\n",
      "Epoch 00018: val_loss did not improve from 0.53185\n",
      "Epoch 19/25\n",
      "5452871/5452871 [==============================] - 17s 3us/step - loss: 0.5326 - acc: 0.7261 - val_loss: 0.5319 - val_acc: 0.7266\n",
      "\n",
      "Epoch 00019: val_loss did not improve from 0.53185\n",
      "Epoch 20/25\n",
      "5452871/5452871 [==============================] - 18s 3us/step - loss: 0.5326 - acc: 0.7260 - val_loss: 0.5319 - val_acc: 0.7266\n",
      "\n",
      "Epoch 00020: val_loss did not improve from 0.53185\n",
      "Epoch 21/25\n",
      "5452871/5452871 [==============================] - 17s 3us/step - loss: 0.5326 - acc: 0.7260 - val_loss: 0.5321 - val_acc: 0.7264\n",
      "\n",
      "Epoch 00021: val_loss did not improve from 0.53185\n",
      "Epoch 22/25\n",
      "5452871/5452871 [==============================] - 18s 3us/step - loss: 0.5326 - acc: 0.7262 - val_loss: 0.5321 - val_acc: 0.7265\n",
      "\n",
      "Epoch 00022: val_loss did not improve from 0.53185\n",
      "Epoch 23/25\n",
      "5452871/5452871 [==============================] - 17s 3us/step - loss: 0.5326 - acc: 0.7260 - val_loss: 0.5324 - val_acc: 0.7263\n",
      "\n",
      "Epoch 00023: val_loss did not improve from 0.53185\n",
      "Epoch 24/25\n",
      "5452871/5452871 [==============================] - 17s 3us/step - loss: 0.5326 - acc: 0.7260 - val_loss: 0.5319 - val_acc: 0.7265\n",
      "\n",
      "Epoch 00024: val_loss did not improve from 0.53185\n",
      "Epoch 25/25\n",
      "5452871/5452871 [==============================] - 18s 3us/step - loss: 0.5325 - acc: 0.7261 - val_loss: 0.5319 - val_acc: 0.7266\n",
      "\n",
      "Epoch 00025: val_loss did not improve from 0.53185\n"
     ]
    },
    {
     "data": {
      "text/plain": [
       "<keras.callbacks.History at 0x7f66086e8c88>"
      ]
     },
     "execution_count": 90,
     "metadata": {
      "tags": []
     },
     "output_type": "execute_result"
    }
   ],
   "source": [
    "model.fit(X_train, Y_train, batch_size = batch_size, epochs = epochs, verbose = 1, validation_split = 0.2, callbacks = callbacks)"
   ]
  },
  {
   "cell_type": "code",
   "execution_count": 0,
   "metadata": {
    "colab": {},
    "colab_type": "code",
    "id": "C_ZlsI5ethEh"
   },
   "outputs": [],
   "source": [
    "def print_confusion_matrix(confusion_matrix, class_names, figsize = (10,7), fontsize=14):\n",
    "    \"\"\"Prints a confusion matrix, as returned by sklearn.metrics.confusion_matrix, as a heatmap.\n",
    "    \n",
    "    Arguments\n",
    "    ---------\n",
    "    confusion_matrix: numpy.ndarray\n",
    "        The numpy.ndarray object returned from a call to sklearn.metrics.confusion_matrix. \n",
    "        Similarly constructed ndarrays can also be used.\n",
    "    class_names: list\n",
    "        An ordered list of class names, in the order they index the given confusion matrix.\n",
    "    figsize: tuple\n",
    "        A 2-long tuple, the first value determining the horizontal size of the ouputted figure,\n",
    "        the second determining the vertical size. Defaults to (10,7).\n",
    "    fontsize: int\n",
    "        Font size for axes labels. Defaults to 14.\n",
    "        \n",
    "    Returns\n",
    "    -------\n",
    "    matplotlib.figure.Figure\n",
    "        The resulting confusion matrix figure\n",
    "    \"\"\"\n",
    "    df_cm = pd.DataFrame(\n",
    "        confusion_matrix, index=class_names, columns=class_names, \n",
    "    )\n",
    "    fig = plt.figure(figsize=figsize)\n",
    "    try:\n",
    "        heatmap = sns.heatmap(df_cm, annot=True, fmt=\"d\")\n",
    "    except ValueError:\n",
    "        raise ValueError(\"Confusion matrix values must be integers.\")\n",
    "    heatmap.yaxis.set_ticklabels(heatmap.yaxis.get_ticklabels(), rotation=0, ha='right', fontsize=fontsize)\n",
    "    heatmap.xaxis.set_ticklabels(heatmap.xaxis.get_ticklabels(), rotation=45, ha='right', fontsize=fontsize)\n",
    "    plt.ylabel('True label')\n",
    "    plt.xlabel('Predicted label')\n",
    "    return fig"
   ]
  },
  {
   "cell_type": "code",
   "execution_count": 0,
   "metadata": {
    "colab": {},
    "colab_type": "code",
    "id": "ZLoTZjJ3xf3X"
   },
   "outputs": [],
   "source": [
    "from sklearn.metrics import accuracy_score\n",
    "\n",
    "Y_pred = model.predict(X_test)"
   ]
  },
  {
   "cell_type": "code",
   "execution_count": 96,
   "metadata": {
    "colab": {
     "base_uri": "https://localhost:8080/",
     "height": 51
    },
    "colab_type": "code",
    "executionInfo": {
     "elapsed": 1166,
     "status": "ok",
     "timestamp": 1555865057480,
     "user": {
      "displayName": "Asim Waheed",
      "photoUrl": "https://lh3.googleusercontent.com/-DKJYFOBt9mM/AAAAAAAAAAI/AAAAAAAACPc/WgYaEqe9TIs/s64/photo.jpg",
      "userId": "11738985371570972172"
     },
     "user_tz": -300
    },
    "id": "fBVShwBLwUod",
    "outputId": "132821aa-263c-4d76-97f1-73c26c80121a"
   },
   "outputs": [
    {
     "name": "stdout",
     "output_type": "stream",
     "text": [
      "(2921181, 2)\n",
      "(2921181,)\n"
     ]
    }
   ],
   "source": [
    "Y_pred_noncategorical = np.argmax(Y_pred, axis=1)\n",
    "Y_test_noncategorical = np.argmax(Y_test, axis=1)\n",
    "\n",
    "print(Y_pred.shape)\n",
    "print(Y_pred_noncategorical.shape)"
   ]
  },
  {
   "cell_type": "code",
   "execution_count": 98,
   "metadata": {
    "colab": {
     "base_uri": "https://localhost:8080/",
     "height": 34
    },
    "colab_type": "code",
    "executionInfo": {
     "elapsed": 1133,
     "status": "ok",
     "timestamp": 1555865096279,
     "user": {
      "displayName": "Asim Waheed",
      "photoUrl": "https://lh3.googleusercontent.com/-DKJYFOBt9mM/AAAAAAAAAAI/AAAAAAAACPc/WgYaEqe9TIs/s64/photo.jpg",
      "userId": "11738985371570972172"
     },
     "user_tz": -300
    },
    "id": "JXom8THgxrZx",
    "outputId": "020626d6-a4d9-4c2e-f3c1-c07b57c7ed56"
   },
   "outputs": [
    {
     "data": {
      "text/plain": [
       "0.7267423689254449"
      ]
     },
     "execution_count": 98,
     "metadata": {
      "tags": []
     },
     "output_type": "execute_result"
    }
   ],
   "source": [
    "accuracy = accuracy_score(Y_test_noncategorical, Y_pred_noncategorical)\n",
    "accuracy"
   ]
  },
  {
   "cell_type": "code",
   "execution_count": 101,
   "metadata": {
    "colab": {
     "base_uri": "https://localhost:8080/",
     "height": 452
    },
    "colab_type": "code",
    "executionInfo": {
     "elapsed": 4722,
     "status": "ok",
     "timestamp": 1555865148766,
     "user": {
      "displayName": "Asim Waheed",
      "photoUrl": "https://lh3.googleusercontent.com/-DKJYFOBt9mM/AAAAAAAAAAI/AAAAAAAACPc/WgYaEqe9TIs/s64/photo.jpg",
      "userId": "11738985371570972172"
     },
     "user_tz": -300
    },
    "id": "ddkskHMCySTP",
    "outputId": "a5840ff2-ccd0-4472-c57d-8221a3229efc"
   },
   "outputs": [
    {
     "data": {
      "image/png": "[encoded data removed]",
      "text/plain": [
       "<Figure size 720x504 with 2 Axes>"
      ]
     },
     "metadata": {
      "tags": []
     },
     "output_type": "display_data"
    }
   ],
   "source": [
    "from sklearn.metrics import confusion_matrix\n",
    "\n",
    "\n",
    "conf_matrix = confusion_matrix(Y_test_noncategorical, Y_pred_noncategorical)\n",
    "fig = print_confusion_matrix(conf_matrix,[0,1])"
   ]
  },
  {
   "cell_type": "markdown",
   "metadata": {
    "colab_type": "text",
    "id": "y_3hMxDvyba2"
   },
   "source": [
    "The accuracy of the neural network is better than the other models that we trained (can be seen in the other notebooks). In terms of perceptibility to class imbalance, the neural network does a much better job than the Random Forest, but a slightly worse job than Logistic Regression. This could be because Keras uses the validation set as well as the training set to figure out how well the model is performing. Because this is the best model, we will be using this in order to make our final predictions."
   ]
  },
  {
   "cell_type": "markdown",
   "metadata": {
    "colab_type": "text",
    "id": "pYvYfSZ8zfJp"
   },
   "source": [
    "### Making the Predictions"
   ]
  },
  {
   "cell_type": "code",
   "execution_count": 103,
   "metadata": {
    "colab": {
     "base_uri": "https://localhost:8080/",
     "height": 357
    },
    "colab_type": "code",
    "executionInfo": {
     "elapsed": 11724,
     "status": "ok",
     "timestamp": 1555865508326,
     "user": {
      "displayName": "Asim Waheed",
      "photoUrl": "https://lh3.googleusercontent.com/-DKJYFOBt9mM/AAAAAAAAAAI/AAAAAAAACPc/WgYaEqe9TIs/s64/photo.jpg",
      "userId": "11738985371570972172"
     },
     "user_tz": -300
    },
    "id": "UMid0vaJzoNW",
    "outputId": "08154ff9-bd7b-437d-dd21-a25914336a12"
   },
   "outputs": [
    {
     "name": "stdout",
     "output_type": "stream",
     "text": [
      "   product_id                product_name  aisle_id  department_id  \\\n",
      "0           1  Chocolate Sandwich Cookies        61             19   \n",
      "1           1  Chocolate Sandwich Cookies        61             19   \n",
      "2           1  Chocolate Sandwich Cookies        61             19   \n",
      "3           1  Chocolate Sandwich Cookies        61             19   \n",
      "4           1  Chocolate Sandwich Cookies        61             19   \n",
      "\n",
      "           aisle department  order_id  add_to_cart_order  reordered  user_id  \\\n",
      "0  cookies cakes     snacks      9273                 30          0    50005   \n",
      "1  cookies cakes     snacks     19479                  5          0   110984   \n",
      "2  cookies cakes     snacks     19989                  1          0     4122   \n",
      "3  cookies cakes     snacks     23202                  3          0   162394   \n",
      "4  cookies cakes     snacks     24760                  5          1   205157   \n",
      "\n",
      "  eval_set  order_number  order_dow  order_hour_of_day  days_since_prior_order  \n",
      "0    prior             1          1                 15                     NaN  \n",
      "1    prior             2          2                 12                    20.0  \n",
      "2    prior            11          2                  7                     8.0  \n",
      "3    prior             2          3                 12                     7.0  \n",
      "4    prior            11          5                 17                    25.0  \n"
     ]
    }
   ],
   "source": [
    "all_data = pd.read_pickle(data_dir+\"all_data.pkl\")\n",
    "all_data.fillna(0)\n",
    "\n",
    "print(all_data.head())"
   ]
  },
  {
   "cell_type": "code",
   "execution_count": 109,
   "metadata": {
    "colab": {
     "base_uri": "https://localhost:8080/",
     "height": 204
    },
    "colab_type": "code",
    "executionInfo": {
     "elapsed": 1472,
     "status": "ok",
     "timestamp": 1555865633497,
     "user": {
      "displayName": "Asim Waheed",
      "photoUrl": "https://lh3.googleusercontent.com/-DKJYFOBt9mM/AAAAAAAAAAI/AAAAAAAACPc/WgYaEqe9TIs/s64/photo.jpg",
      "userId": "11738985371570972172"
     },
     "user_tz": -300
    },
    "id": "JAIHWw_1zsuZ",
    "outputId": "ba6546f3-fd5d-49cb-c47c-53938b082263"
   },
   "outputs": [
    {
     "data": {
      "text/html": [
       "<div>\n",
       "<style scoped>\n",
       "    .dataframe tbody tr th:only-of-type {\n",
       "        vertical-align: middle;\n",
       "    }\n",
       "\n",
       "    .dataframe tbody tr th {\n",
       "        vertical-align: top;\n",
       "    }\n",
       "\n",
       "    .dataframe thead th {\n",
       "        text-align: right;\n",
       "    }\n",
       "</style>\n",
       "<table border=\"1\" class=\"dataframe\">\n",
       "  <thead>\n",
       "    <tr style=\"text-align: right;\">\n",
       "      <th></th>\n",
       "      <th>order_number</th>\n",
       "      <th>add_to_cart_order</th>\n",
       "      <th>department_id</th>\n",
       "      <th>days_since_prior_order</th>\n",
       "      <th>order_hour_of_day</th>\n",
       "      <th>order_dow</th>\n",
       "      <th>aisle_id</th>\n",
       "      <th>product_id</th>\n",
       "    </tr>\n",
       "  </thead>\n",
       "  <tbody>\n",
       "    <tr>\n",
       "      <th>0</th>\n",
       "      <td>1</td>\n",
       "      <td>30</td>\n",
       "      <td>19</td>\n",
       "      <td>NaN</td>\n",
       "      <td>15</td>\n",
       "      <td>1</td>\n",
       "      <td>61</td>\n",
       "      <td>1</td>\n",
       "    </tr>\n",
       "    <tr>\n",
       "      <th>1</th>\n",
       "      <td>2</td>\n",
       "      <td>5</td>\n",
       "      <td>19</td>\n",
       "      <td>20.0</td>\n",
       "      <td>12</td>\n",
       "      <td>2</td>\n",
       "      <td>61</td>\n",
       "      <td>1</td>\n",
       "    </tr>\n",
       "    <tr>\n",
       "      <th>2</th>\n",
       "      <td>11</td>\n",
       "      <td>1</td>\n",
       "      <td>19</td>\n",
       "      <td>8.0</td>\n",
       "      <td>7</td>\n",
       "      <td>2</td>\n",
       "      <td>61</td>\n",
       "      <td>1</td>\n",
       "    </tr>\n",
       "    <tr>\n",
       "      <th>3</th>\n",
       "      <td>2</td>\n",
       "      <td>3</td>\n",
       "      <td>19</td>\n",
       "      <td>7.0</td>\n",
       "      <td>12</td>\n",
       "      <td>3</td>\n",
       "      <td>61</td>\n",
       "      <td>1</td>\n",
       "    </tr>\n",
       "    <tr>\n",
       "      <th>4</th>\n",
       "      <td>11</td>\n",
       "      <td>5</td>\n",
       "      <td>19</td>\n",
       "      <td>25.0</td>\n",
       "      <td>17</td>\n",
       "      <td>5</td>\n",
       "      <td>61</td>\n",
       "      <td>1</td>\n",
       "    </tr>\n",
       "  </tbody>\n",
       "</table>\n",
       "</div>"
      ],
      "text/plain": [
       "   order_number  add_to_cart_order  department_id  days_since_prior_order  \\\n",
       "0             1                 30             19                     NaN   \n",
       "1             2                  5             19                    20.0   \n",
       "2            11                  1             19                     8.0   \n",
       "3             2                  3             19                     7.0   \n",
       "4            11                  5             19                    25.0   \n",
       "\n",
       "   order_hour_of_day  order_dow  aisle_id  product_id  \n",
       "0                 15          1        61           1  \n",
       "1                 12          2        61           1  \n",
       "2                  7          2        61           1  \n",
       "3                 12          3        61           1  \n",
       "4                 17          5        61           1  "
      ]
     },
     "execution_count": 109,
     "metadata": {
      "tags": []
     },
     "output_type": "execute_result"
    }
   ],
   "source": [
    "features = ['order_number', 'add_to_cart_order', 'department_id', 'days_since_prior_order', 'order_hour_of_day', 'order_dow', 'aisle_id', 'product_id']\n",
    "\n",
    "X_to_pred = all_data[features]\n",
    "X_to_pred.head()"
   ]
  },
  {
   "cell_type": "code",
   "execution_count": 110,
   "metadata": {
    "colab": {
     "base_uri": "https://localhost:8080/",
     "height": 119
    },
    "colab_type": "code",
    "executionInfo": {
     "elapsed": 1012,
     "status": "ok",
     "timestamp": 1555865633500,
     "user": {
      "displayName": "Asim Waheed",
      "photoUrl": "https://lh3.googleusercontent.com/-DKJYFOBt9mM/AAAAAAAAAAI/AAAAAAAACPc/WgYaEqe9TIs/s64/photo.jpg",
      "userId": "11738985371570972172"
     },
     "user_tz": -300
    },
    "id": "-53ZOaPPz9fu",
    "outputId": "c80e2516-d997-4ba1-8769-9de97cae10c9"
   },
   "outputs": [
    {
     "data": {
      "text/plain": [
       "0     9273\n",
       "1    19479\n",
       "2    19989\n",
       "3    23202\n",
       "4    24760\n",
       "Name: order_id, dtype: int64"
      ]
     },
     "execution_count": 110,
     "metadata": {
      "tags": []
     },
     "output_type": "execute_result"
    }
   ],
   "source": [
    "order_ids = all_data['order_id']\n",
    "order_ids.head()"
   ]
  },
  {
   "cell_type": "code",
   "execution_count": 111,
   "metadata": {
    "colab": {
     "base_uri": "https://localhost:8080/",
     "height": 119
    },
    "colab_type": "code",
    "executionInfo": {
     "elapsed": 1150,
     "status": "ok",
     "timestamp": 1555865633929,
     "user": {
      "displayName": "Asim Waheed",
      "photoUrl": "https://lh3.googleusercontent.com/-DKJYFOBt9mM/AAAAAAAAAAI/AAAAAAAACPc/WgYaEqe9TIs/s64/photo.jpg",
      "userId": "11738985371570972172"
     },
     "user_tz": -300
    },
    "id": "3LTaqF-_0P0m",
    "outputId": "1323d4a5-40d6-4580-fbab-c4c90b8a19e7"
   },
   "outputs": [
    {
     "data": {
      "text/plain": [
       "0    1\n",
       "1    1\n",
       "2    1\n",
       "3    1\n",
       "4    1\n",
       "Name: product_id, dtype: int64"
      ]
     },
     "execution_count": 111,
     "metadata": {
      "tags": []
     },
     "output_type": "execute_result"
    }
   ],
   "source": [
    "products = all_data['product_id']\n",
    "products.head()"
   ]
  },
  {
   "cell_type": "code",
   "execution_count": 0,
   "metadata": {
    "colab": {},
    "colab_type": "code",
    "id": "FIGU4-S90RK-"
   },
   "outputs": [],
   "source": [
    "X_to_pred_arr = X_to_pred.to_numpy()"
   ]
  },
  {
   "cell_type": "code",
   "execution_count": 113,
   "metadata": {
    "colab": {
     "base_uri": "https://localhost:8080/",
     "height": 34
    },
    "colab_type": "code",
    "executionInfo": {
     "elapsed": 460513,
     "status": "ok",
     "timestamp": 1555866152033,
     "user": {
      "displayName": "Asim Waheed",
      "photoUrl": "https://lh3.googleusercontent.com/-DKJYFOBt9mM/AAAAAAAAAAI/AAAAAAAACPc/WgYaEqe9TIs/s64/photo.jpg",
      "userId": "11738985371570972172"
     },
     "user_tz": -300
    },
    "id": "JL6mYDHH0cSz",
    "outputId": "e42bf965-7d7f-4a69-a3b5-1135a7f6c99c"
   },
   "outputs": [
    {
     "data": {
      "text/plain": [
       "(9732316, 2)"
      ]
     },
     "execution_count": 113,
     "metadata": {
      "tags": []
     },
     "output_type": "execute_result"
    }
   ],
   "source": [
    "Y_final_predictions_categorical = model.predict(X_to_pred_arr)\n",
    "\n",
    "Y_final_predictions_categorical.shape"
   ]
  },
  {
   "cell_type": "code",
   "execution_count": 115,
   "metadata": {
    "colab": {
     "base_uri": "https://localhost:8080/",
     "height": 34
    },
    "colab_type": "code",
    "executionInfo": {
     "elapsed": 1181,
     "status": "ok",
     "timestamp": 1555866280354,
     "user": {
      "displayName": "Asim Waheed",
      "photoUrl": "https://lh3.googleusercontent.com/-DKJYFOBt9mM/AAAAAAAAAAI/AAAAAAAACPc/WgYaEqe9TIs/s64/photo.jpg",
      "userId": "11738985371570972172"
     },
     "user_tz": -300
    },
    "id": "A9r7VH2O0mUb",
    "outputId": "48a5b07b-efb7-4ed0-d7f9-140584b20b0b"
   },
   "outputs": [
    {
     "data": {
      "text/plain": [
       "(9732316,)"
      ]
     },
     "execution_count": 115,
     "metadata": {
      "tags": []
     },
     "output_type": "execute_result"
    }
   ],
   "source": [
    "Y_final = np.argmax(Y_final_predictions_categorical, axis=1)\n",
    "\n",
    "Y_final.shape"
   ]
  },
  {
   "cell_type": "code",
   "execution_count": 125,
   "metadata": {
    "colab": {
     "base_uri": "https://localhost:8080/",
     "height": 34
    },
    "colab_type": "code",
    "executionInfo": {
     "elapsed": 1332,
     "status": "ok",
     "timestamp": 1555866518787,
     "user": {
      "displayName": "Asim Waheed",
      "photoUrl": "https://lh3.googleusercontent.com/-DKJYFOBt9mM/AAAAAAAAAAI/AAAAAAAACPc/WgYaEqe9TIs/s64/photo.jpg",
      "userId": "11738985371570972172"
     },
     "user_tz": -300
    },
    "id": "pZk_rvBa21yg",
    "outputId": "ebc8ecc6-d399-493c-f05e-e091d5bc5201"
   },
   "outputs": [
    {
     "data": {
      "text/plain": [
       "(9732316, 1)"
      ]
     },
     "execution_count": 125,
     "metadata": {
      "tags": []
     },
     "output_type": "execute_result"
    }
   ],
   "source": [
    "Y_Series = pd.DataFrame(Y_final, columns=['reordered'])\n",
    "\n",
    "Y_Series.shape"
   ]
  },
  {
   "cell_type": "code",
   "execution_count": 128,
   "metadata": {
    "colab": {
     "base_uri": "https://localhost:8080/",
     "height": 136
    },
    "colab_type": "code",
    "executionInfo": {
     "elapsed": 1564,
     "status": "ok",
     "timestamp": 1555866598762,
     "user": {
      "displayName": "Asim Waheed",
      "photoUrl": "https://lh3.googleusercontent.com/-DKJYFOBt9mM/AAAAAAAAAAI/AAAAAAAACPc/WgYaEqe9TIs/s64/photo.jpg",
      "userId": "11738985371570972172"
     },
     "user_tz": -300
    },
    "id": "VBRR8gUa27rX",
    "outputId": "ef0ac6f5-219c-4aac-eabf-fb6c3caa86bf"
   },
   "outputs": [
    {
     "name": "stdout",
     "output_type": "stream",
     "text": [
      "   order_id  product_id  reordered\n",
      "0      9273           1          0\n",
      "1     19479           1          0\n",
      "2     19989           1          1\n",
      "3     23202           1          0\n",
      "4     24760           1          1\n",
      "(9732316, 3)\n"
     ]
    }
   ],
   "source": [
    "submission_df = pd.concat([order_ids, products, Y_Series], axis=1)\n",
    "\n",
    "print(submission_df.head())\n",
    "print(submission_df.shape)"
   ]
  },
  {
   "cell_type": "code",
   "execution_count": 131,
   "metadata": {
    "colab": {
     "base_uri": "https://localhost:8080/",
     "height": 204
    },
    "colab_type": "code",
    "executionInfo": {
     "elapsed": 1306,
     "status": "ok",
     "timestamp": 1555866611821,
     "user": {
      "displayName": "Asim Waheed",
      "photoUrl": "https://lh3.googleusercontent.com/-DKJYFOBt9mM/AAAAAAAAAAI/AAAAAAAACPc/WgYaEqe9TIs/s64/photo.jpg",
      "userId": "11738985371570972172"
     },
     "user_tz": -300
    },
    "id": "Xx0RhaHU3HEH",
    "outputId": "96a10880-65ca-48d1-9a97-b0007aecfef8"
   },
   "outputs": [
    {
     "data": {
      "text/html": [
       "<div>\n",
       "<style scoped>\n",
       "    .dataframe tbody tr th:only-of-type {\n",
       "        vertical-align: middle;\n",
       "    }\n",
       "\n",
       "    .dataframe tbody tr th {\n",
       "        vertical-align: top;\n",
       "    }\n",
       "\n",
       "    .dataframe thead th {\n",
       "        text-align: right;\n",
       "    }\n",
       "</style>\n",
       "<table border=\"1\" class=\"dataframe\">\n",
       "  <thead>\n",
       "    <tr style=\"text-align: right;\">\n",
       "      <th></th>\n",
       "      <th>order_id</th>\n",
       "      <th>product_id</th>\n",
       "    </tr>\n",
       "  </thead>\n",
       "  <tbody>\n",
       "    <tr>\n",
       "      <th>2</th>\n",
       "      <td>19989</td>\n",
       "      <td>1</td>\n",
       "    </tr>\n",
       "    <tr>\n",
       "      <th>4</th>\n",
       "      <td>24760</td>\n",
       "      <td>1</td>\n",
       "    </tr>\n",
       "    <tr>\n",
       "      <th>5</th>\n",
       "      <td>44326</td>\n",
       "      <td>1</td>\n",
       "    </tr>\n",
       "    <tr>\n",
       "      <th>6</th>\n",
       "      <td>47122</td>\n",
       "      <td>1</td>\n",
       "    </tr>\n",
       "    <tr>\n",
       "      <th>8</th>\n",
       "      <td>56396</td>\n",
       "      <td>1</td>\n",
       "    </tr>\n",
       "  </tbody>\n",
       "</table>\n",
       "</div>"
      ],
      "text/plain": [
       "   order_id  product_id\n",
       "2     19989           1\n",
       "4     24760           1\n",
       "5     44326           1\n",
       "6     47122           1\n",
       "8     56396           1"
      ]
     },
     "execution_count": 131,
     "metadata": {
      "tags": []
     },
     "output_type": "execute_result"
    }
   ],
   "source": [
    "final_submission = submission_df[submission_df['reordered'] == 1][['order_id','product_id']]\n",
    "final_submission.head()"
   ]
  },
  {
   "cell_type": "code",
   "execution_count": 0,
   "metadata": {
    "colab": {},
    "colab_type": "code",
    "id": "CLYz99Q64DeG"
   },
   "outputs": [],
   "source": [
    "final_submission.to_csv(data_dir+\"submission.csv\")"
   ]
  },
  {
   "cell_type": "code",
   "execution_count": 0,
   "metadata": {
    "colab": {},
    "colab_type": "code",
    "id": "G9wF8tq44lZC"
   },
   "outputs": [],
   "source": []
  }
 ],
 "metadata": {
  "accelerator": "GPU",
  "colab": {
   "collapsed_sections": [],
   "name": "Phase_2_NeuralNetwork.ipynb",
   "provenance": [],
   "version": "0.3.2"
  },
  "kernelspec": {
   "display_name": "Python 3",
   "language": "python",
   "name": "python3"
  },
  "language_info": {
   "codemirror_mode": {
    "name": "ipython",
    "version": 3
   },
   "file_extension": ".py",
   "mimetype": "text/x-python",
   "name": "python",
   "nbconvert_exporter": "python",
   "pygments_lexer": "ipython3",
   "version": "3.6.8"
  },
  "toc": {
   "base_numbering": 1,
   "nav_menu": {},
   "number_sections": true,
   "sideBar": true,
   "skip_h1_title": false,
   "title_cell": "Table of Contents",
   "title_sidebar": "Contents",
   "toc_cell": false,
   "toc_position": {},
   "toc_section_display": true,
   "toc_window_display": false
  }
 },
 "nbformat": 4,
 "nbformat_minor": 1
}
